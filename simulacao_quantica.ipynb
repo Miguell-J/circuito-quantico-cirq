{
  "nbformat": 4,
  "nbformat_minor": 0,
  "metadata": {
    "colab": {
      "provenance": []
    },
    "kernelspec": {
      "name": "python3",
      "display_name": "Python 3"
    },
    "language_info": {
      "name": "python"
    }
  },
  "cells": [
    {
      "cell_type": "markdown",
      "source": [
        "# Construção de um circuito quântico simples"
      ],
      "metadata": {
        "id": "x34m9ZBv2Rs7"
      }
    },
    {
      "cell_type": "code",
      "execution_count": 3,
      "metadata": {
        "id": "0AgWEC5Czmd-"
      },
      "outputs": [],
      "source": [
        "import cirq # biblioteca do google para desenvolvimento de algorítimos quânticos"
      ]
    },
    {
      "cell_type": "code",
      "source": [
        "# Definição do qubit\n",
        "qubit = cirq.GridQubit(0, 0)\n",
        "\n",
        "# Construção do circuito\n",
        "circuito = cirq.Circuit(\n",
        "    cirq.H(qubit),  # Aplica um portão Hadamard ao qubit. O portão Hadamard coloca o qubit em uma superposição dos estados 0 e 1\n",
        "    cirq.measure(qubit, key=\"m\") #  Adicionada uma operação de medição ao qubit. O resultado da medição será registrado com a chave \"m\"\n",
        "    )\n",
        "\n",
        "# Visualização do circuito\n",
        "print(\"Circuito Quântico:\")\n",
        "print(circuito)"
      ],
      "metadata": {
        "colab": {
          "base_uri": "https://localhost:8080/"
        },
        "id": "ACqy69Hoz5xe",
        "outputId": "89fcecc0-264c-4e9e-e442-317acf7a9937"
      },
      "execution_count": 24,
      "outputs": [
        {
          "output_type": "stream",
          "name": "stdout",
          "text": [
            "Circuito Quântico:\n",
            "(0, 0): ───H───M('m')───\n"
          ]
        }
      ]
    },
    {
      "cell_type": "code",
      "source": [
        "simulador = cirq.Simulator() # Construção do simulador\n",
        "resultado = simulador.run(circuito, repetitions=1000) # O parâmetro repetitions=1000indica que o circuito será executado 1000 vezes para coleta de estatísticas\n",
        "print(resultado.histogram(key=\"m\")) # Visualização do historiograma"
      ],
      "metadata": {
        "colab": {
          "base_uri": "https://localhost:8080/"
        },
        "id": "0S-q0meM0qv7",
        "outputId": "299db2b8-08f1-44a9-ee66-3a25372aff00"
      },
      "execution_count": 23,
      "outputs": [
        {
          "output_type": "stream",
          "name": "stdout",
          "text": [
            "Counter({0: 514, 1: 486})\n"
          ]
        }
      ]
    }
  ]
}